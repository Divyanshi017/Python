{
  "nbformat": 4,
  "nbformat_minor": 0,
  "metadata": {
    "colab": {
      "provenance": [],
      "authorship_tag": "ABX9TyNNXhFPFrV+wllVHJXria/M",
      "include_colab_link": true
    },
    "kernelspec": {
      "name": "python3",
      "display_name": "Python 3"
    },
    "language_info": {
      "name": "python"
    }
  },
  "cells": [
    {
      "cell_type": "markdown",
      "metadata": {
        "id": "view-in-github",
        "colab_type": "text"
      },
      "source": [
        "<a href=\"https://colab.research.google.com/github/Divyanshi017/Python/blob/main/Loops(while).ipynb\" target=\"_parent\"><img src=\"https://colab.research.google.com/assets/colab-badge.svg\" alt=\"Open In Colab\"/></a>"
      ]
    },
    {
      "cell_type": "code",
      "execution_count": 12,
      "metadata": {
        "colab": {
          "base_uri": "https://localhost:8080/"
        },
        "id": "vORtDQPVT40S",
        "outputId": "3ef8d751-09fd-415f-cfbb-6228ed361e2d",
        "collapsed": true
      },
      "outputs": [
        {
          "output_type": "stream",
          "name": "stdout",
          "text": [
            "\n",
            "*\n",
            "**\n",
            "***\n",
            "****\n",
            "*****\n",
            "******\n",
            "*******\n",
            "********\n",
            "*********\n"
          ]
        }
      ],
      "source": [
        "i=0\n",
        "while(i<10):\n",
        "  print(i*\"*\")\n",
        "  i+=1"
      ]
    },
    {
      "cell_type": "code",
      "source": [
        "# sec_num=14\n",
        "guess_num=3\n",
        "counter=0\n",
        "sec_num=int(input(\"Enter the secret number: \"))\n",
        "while(counter<3):\n",
        " num=int(input(\"Enter the guess: \"))\n",
        " if num==sec_num:\n",
        "  print(\"Success\")\n",
        "  break\n",
        " else:\n",
        "  counter=counter+1\n",
        "  print(\"Try Again\")"
      ],
      "metadata": {
        "colab": {
          "base_uri": "https://localhost:8080/"
        },
        "id": "OI98pvDoV529",
        "outputId": "524611e5-6883-4054-c11f-7dd587925cd4"
      },
      "execution_count": 10,
      "outputs": [
        {
          "output_type": "stream",
          "name": "stdout",
          "text": [
            "Enter the secret number: 12\n",
            "Enter the guess: 33\n",
            "Try Again\n",
            "Enter the guess: 56\n",
            "Try Again\n",
            "Enter the guess: 12\n",
            "Success\n"
          ]
        }
      ]
    },
    {
      "cell_type": "code",
      "source": [],
      "metadata": {
        "id": "CDyo0O_mXCg3"
      },
      "execution_count": null,
      "outputs": []
    }
  ]
}