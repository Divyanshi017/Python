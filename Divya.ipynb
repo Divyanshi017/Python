{
  "nbformat": 4,
  "nbformat_minor": 0,
  "metadata": {
    "colab": {
      "provenance": [],
      "authorship_tag": "ABX9TyPYrEvUnXY8iNfEoQDS54Hp",
      "include_colab_link": true
    },
    "kernelspec": {
      "name": "python3",
      "display_name": "Python 3"
    },
    "language_info": {
      "name": "python"
    }
  },
  "cells": [
    {
      "cell_type": "markdown",
      "metadata": {
        "id": "view-in-github",
        "colab_type": "text"
      },
      "source": [
        "<a href=\"https://colab.research.google.com/github/Divyanshi017/Python/blob/main/Divya.ipynb\" target=\"_parent\"><img src=\"https://colab.research.google.com/assets/colab-badge.svg\" alt=\"Open In Colab\"/></a>"
      ]
    },
    {
      "cell_type": "code",
      "execution_count": 2,
      "metadata": {
        "colab": {
          "base_uri": "https://localhost:8080/"
        },
        "id": "D-3ZMCHs0rKX",
        "outputId": "6e53725e-b5b5-4a49-c9ab-f769a51e6e9c"
      },
      "outputs": [
        {
          "output_type": "stream",
          "name": "stdout",
          "text": [
            "enter the number:-10\n",
            "enter the number:-10\n",
            "20\n"
          ]
        }
      ],
      "source": [
        "num1=int (input(\"enter the number:-\"))\n",
        "num2=int (input(\"enter the number:-\"))\n",
        "sum=num1+num2\n",
        "print(sum)"
      ]
    },
    {
      "cell_type": "code",
      "source": [],
      "metadata": {
        "id": "4uTObJGV1pMK"
      },
      "execution_count": null,
      "outputs": []
    },
    {
      "cell_type": "code",
      "source": [],
      "metadata": {
        "id": "cei149k61PBB"
      },
      "execution_count": null,
      "outputs": []
    }
  ]
}