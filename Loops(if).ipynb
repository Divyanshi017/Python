{
  "nbformat": 4,
  "nbformat_minor": 0,
  "metadata": {
    "colab": {
      "provenance": [],
      "authorship_tag": "ABX9TyObnzApWUOTiSPLgSAUgv5z",
      "include_colab_link": true
    },
    "kernelspec": {
      "name": "python3",
      "display_name": "Python 3"
    },
    "language_info": {
      "name": "python"
    }
  },
  "cells": [
    {
      "cell_type": "markdown",
      "metadata": {
        "id": "view-in-github",
        "colab_type": "text"
      },
      "source": [
        "<a href=\"https://colab.research.google.com/github/Divyanshi017/Python/blob/main/Loops(if).ipynb\" target=\"_parent\"><img src=\"https://colab.research.google.com/assets/colab-badge.svg\" alt=\"Open In Colab\"/></a>"
      ]
    },
    {
      "cell_type": "code",
      "execution_count": 5,
      "metadata": {
        "colab": {
          "base_uri": "https://localhost:8080/"
        },
        "id": "xwy_TLFDCUbI",
        "outputId": "860846c0-6de2-46bd-d610-21319171fcd3"
      },
      "outputs": [
        {
          "output_type": "stream",
          "name": "stdout",
          "text": [
            "hello\n",
            "done\n"
          ]
        }
      ],
      "source": [
        "x=10\n",
        "if x<=10:\n",
        "   print (\"hello\")\n",
        "   x=x+1\n",
        "print(\"done\")"
      ]
    },
    {
      "cell_type": "code",
      "source": [
        "x=10\n",
        "if x>0:\n",
        "   print (\"hello\")\n",
        "   x=x+1\n",
        "print(\"done\")"
      ],
      "metadata": {
        "colab": {
          "base_uri": "https://localhost:8080/"
        },
        "id": "Hh4NjjoXDR_u",
        "outputId": "fd238799-a8ed-4006-9914-a208d74ea1cf"
      },
      "execution_count": 6,
      "outputs": [
        {
          "output_type": "stream",
          "name": "stdout",
          "text": [
            "hello\n",
            "done\n"
          ]
        }
      ]
    },
    {
      "cell_type": "code",
      "source": [
        "temp=float(input(\"enter the temperature in celcius\"))\n",
        "if temp>30:\n",
        " print(\"it is a hot day\")\n",
        " print(\"drink plenty of water\")\n",
        "elif temp>20:\n",
        " print(\"it is a good day\")\n",
        "elif temp>10:\n",
        "  print(\"it is a bit cold\")\n",
        "else:\n",
        " print(\"enjoy\")"
      ],
      "metadata": {
        "colab": {
          "base_uri": "https://localhost:8080/"
        },
        "id": "lyKT7EXTDW6R",
        "outputId": "185a64a9-f820-45b2-8ea4-216ff3bda31c"
      },
      "execution_count": 8,
      "outputs": [
        {
          "output_type": "stream",
          "name": "stdout",
          "text": [
            "enter the temperature in celcius35\n",
            "it is a hot day\n",
            "drink plenty of water\n"
          ]
        }
      ]
    },
    {
      "cell_type": "markdown",
      "source": [
        "Question: write a python code for weight conversion"
      ],
      "metadata": {
        "id": "E5TcRAqLF8Or"
      }
    },
    {
      "cell_type": "code",
      "source": [
        "wght=int(input(\"enter weight\"))\n",
        "unit=(input(\"enter k or lbs\"))\n",
        "if unit==\"k\":\n",
        " wght = wght*2.2\n",
        " print(\"converted weight is:\",wght)\n",
        "elif unit==\"lbs\":\n",
        " wght=wght*0.45\n",
        " print(\"converted weight is:\",wght)"
      ],
      "metadata": {
        "colab": {
          "base_uri": "https://localhost:8080/"
        },
        "id": "us-LkUtzGp83",
        "outputId": "c3d9c46b-2e6e-4458-b4f7-56d2b36fc62b"
      },
      "execution_count": 12,
      "outputs": [
        {
          "output_type": "stream",
          "name": "stdout",
          "text": [
            "enter weight45\n",
            "enter k or lbsk\n",
            "converted weight is: 99.00000000000001\n"
          ]
        }
      ]
    },
    {
      "cell_type": "markdown",
      "source": [],
      "metadata": {
        "id": "5Qr7J9EDGXu1"
      }
    }
  ]
}