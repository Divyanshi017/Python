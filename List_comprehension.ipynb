{
  "nbformat": 4,
  "nbformat_minor": 0,
  "metadata": {
    "colab": {
      "provenance": [],
      "authorship_tag": "ABX9TyMGOYgQfvaF365sCAZCThgE",
      "include_colab_link": true
    },
    "kernelspec": {
      "name": "python3",
      "display_name": "Python 3"
    },
    "language_info": {
      "name": "python"
    }
  },
  "cells": [
    {
      "cell_type": "markdown",
      "metadata": {
        "id": "view-in-github",
        "colab_type": "text"
      },
      "source": [
        "<a href=\"https://colab.research.google.com/github/Divyanshi017/Python/blob/main/List_comprehension.ipynb\" target=\"_parent\"><img src=\"https://colab.research.google.com/assets/colab-badge.svg\" alt=\"Open In Colab\"/></a>"
      ]
    },
    {
      "cell_type": "code",
      "execution_count": 4,
      "metadata": {
        "colab": {
          "base_uri": "https://localhost:8080/"
        },
        "id": "bYGLWEpw3Rmc",
        "outputId": "97a28243-5462-4081-a362-375619a1acd3"
      },
      "outputs": [
        {
          "output_type": "stream",
          "name": "stdout",
          "text": [
            "['w', 'e', 'l', 'c', 'o', 'm', 'e', ' ', 'p', 'y', 't', 'h', 'o', 'n']\n"
          ]
        }
      ],
      "source": [
        "my_str=\"welcome python\"\n",
        "list_1=[]\n",
        "for i in my_str:\n",
        "  list_1.append(i)\n",
        "print(list_1)\n",
        "#list_2=[i for i in my_str]"
      ]
    },
    {
      "cell_type": "markdown",
      "source": [
        "Even No."
      ],
      "metadata": {
        "id": "Yh2xOO1J5HXC"
      }
    },
    {
      "cell_type": "code",
      "source": [
        "list_3=[]\n",
        "for i in range(200):\n",
        "  if i%2==0:\n",
        "    list_3.append(i)\n",
        "print(list_3)"
      ],
      "metadata": {
        "colab": {
          "base_uri": "https://localhost:8080/"
        },
        "id": "pMQ78g6J5FuD",
        "outputId": "23ac9656-3fc8-4f29-aa3e-0a1c7e1cac4e"
      },
      "execution_count": 6,
      "outputs": [
        {
          "output_type": "stream",
          "name": "stdout",
          "text": [
            "[0, 2, 4, 6, 8, 10, 12, 14, 16, 18, 20, 22, 24, 26, 28, 30, 32, 34, 36, 38, 40, 42, 44, 46, 48, 50, 52, 54, 56, 58, 60, 62, 64, 66, 68, 70, 72, 74, 76, 78, 80, 82, 84, 86, 88, 90, 92, 94, 96, 98, 100, 102, 104, 106, 108, 110, 112, 114, 116, 118, 120, 122, 124, 126, 128, 130, 132, 134, 136, 138, 140, 142, 144, 146, 148, 150, 152, 154, 156, 158, 160, 162, 164, 166, 168, 170, 172, 174, 176, 178, 180, 182, 184, 186, 188, 190, 192, 194, 196, 198]\n"
          ]
        }
      ]
    },
    {
      "cell_type": "code",
      "source": [
        "L1=[i for i in range(200) if i%3==0 or i%5==0 or i%7==0]\n",
        "print(L1)"
      ],
      "metadata": {
        "colab": {
          "base_uri": "https://localhost:8080/"
        },
        "id": "G0oyBVDk6emX",
        "outputId": "130de5eb-a124-413e-fa88-a437c45c6d42"
      },
      "execution_count": 7,
      "outputs": [
        {
          "output_type": "stream",
          "name": "stdout",
          "text": [
            "[0, 3, 5, 6, 7, 9, 10, 12, 14, 15, 18, 20, 21, 24, 25, 27, 28, 30, 33, 35, 36, 39, 40, 42, 45, 48, 49, 50, 51, 54, 55, 56, 57, 60, 63, 65, 66, 69, 70, 72, 75, 77, 78, 80, 81, 84, 85, 87, 90, 91, 93, 95, 96, 98, 99, 100, 102, 105, 108, 110, 111, 112, 114, 115, 117, 119, 120, 123, 125, 126, 129, 130, 132, 133, 135, 138, 140, 141, 144, 145, 147, 150, 153, 154, 155, 156, 159, 160, 161, 162, 165, 168, 170, 171, 174, 175, 177, 180, 182, 183, 185, 186, 189, 190, 192, 195, 196, 198]\n"
          ]
        }
      ]
    },
    {
      "cell_type": "code",
      "source": [
        "my_str=\"one 1 two 2 three 3 four 4\"\n",
        "L_1=[i for i in my_str if i.isdigit()]\n",
        "L_2=[i for i in my_str if i.isalpha()]\n",
        "print(L_1)\n",
        "print(L_2)"
      ],
      "metadata": {
        "colab": {
          "base_uri": "https://localhost:8080/"
        },
        "id": "2PjuLUvl8J5D",
        "outputId": "7216f5cd-12e8-4cd4-d687-d1839ff79fbe"
      },
      "execution_count": 13,
      "outputs": [
        {
          "output_type": "stream",
          "name": "stdout",
          "text": [
            "['1', '2', '3', '4']\n",
            "['o', 'n', 'e', 't', 'w', 'o', 't', 'h', 'r', 'e', 'e', 'f', 'o', 'u', 'r']\n"
          ]
        }
      ]
    },
    {
      "cell_type": "markdown",
      "source": [
        "Write a program to print armstrong number upto 1000 using list comprehension"
      ],
      "metadata": {
        "id": "tgjGuGpj8a05"
      }
    },
    {
      "cell_type": "code",
      "source": [
        "armstrong_num=[num for num in range(1,1001) if num==sum(int(digit)** len(str(num)) for digit in str(num))]\n",
        "print(armstrong_num)"
      ],
      "metadata": {
        "colab": {
          "base_uri": "https://localhost:8080/"
        },
        "id": "342mey2A8aHh",
        "outputId": "f35ff58a-a11a-48d5-dd3f-c8635ab3286e"
      },
      "execution_count": 14,
      "outputs": [
        {
          "output_type": "stream",
          "name": "stdout",
          "text": [
            "[1, 2, 3, 4, 5, 6, 7, 8, 9, 153, 370, 371, 407]\n"
          ]
        }
      ]
    }
  ]
}